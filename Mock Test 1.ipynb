{
 "cells": [
  {
   "cell_type": "markdown",
   "id": "788e7dd0-0dbc-4668-9204-e5a88ba59e84",
   "metadata": {},
   "source": [
    "## Move Zeroes\n",
    "### Given an integer array nums, move all 0's to the end of it while maintaining the relative order of the non-zero elements.\n",
    "\n",
    "### Note that you must do this in-place without making a copy of the array.\n",
    "\n",
    "#### Example 1:\n",
    "#### Input: nums = [0,1,0,3,12]\n",
    "#### Output: [1,3,12,0,0]\n",
    "\n",
    "#### Example 2:\n",
    "#### Input: nums = [0]\n",
    "#### Output: [0]\n",
    "\n",
    "#### Constraints:\n",
    "#### a. 1 <= nums.length <= 10^4\n",
    "#### b. -2^31 <= nums[i] <= 2^31 - 1"
   ]
  },
  {
   "cell_type": "code",
   "execution_count": 1,
   "id": "5f1135f5-5f24-46aa-b62e-1a33284f3f6a",
   "metadata": {},
   "outputs": [
    {
     "name": "stdout",
     "output_type": "stream",
     "text": [
      "[1, 3, 12, 0, 0]\n",
      "[0]\n"
     ]
    }
   ],
   "source": [
    "def moveZeroes(nums):\n",
    "    zero_idx = 0  # Index to keep track of the position to place the next non-zero element\n",
    "\n",
    "    # Iterate through the array\n",
    "    for i in range(len(nums)):\n",
    "        if nums[i] != 0:\n",
    "            # Swap the non-zero element with the next available position for non-zero elements\n",
    "            nums[i], nums[zero_idx] = nums[zero_idx], nums[i]\n",
    "            zero_idx += 1\n",
    "\n",
    "\n",
    "nums = [0, 1, 0, 3, 12]\n",
    "moveZeroes(nums)\n",
    "print(nums)  \n",
    "\n",
    "nums = [0]\n",
    "moveZeroes(nums)\n",
    "print(nums)"
   ]
  },
  {
   "cell_type": "markdown",
   "id": "eb27340b-6b16-4550-8df3-4508c9a0fef7",
   "metadata": {},
   "source": [
    "## First Unique Character in a String\n",
    "\n",
    "### Given a string s, find the first non-repeating character in it and return its index. If it does not exist, return -1.\n",
    "\n",
    "#### Example 1:\n",
    "#### Input: s = \"leetcode\"\n",
    "#### Output: 0\n",
    "\n",
    "#### Example 2:\n",
    "#### Input: s = \"loveleetcode\"\n",
    "#### Output: 2\n",
    "\n",
    "#### Example 3:\n",
    "#### Input: s = \"aabb\"\n",
    "#### Output: -1\n",
    "\n",
    "#### Constraints:\n",
    "#### a. 1 <= s.length <= 10^5\n",
    "#### b. s consists of only lowercase English letters."
   ]
  },
  {
   "cell_type": "code",
   "execution_count": 2,
   "id": "a6b72225-e4a3-482a-98c4-789467abab87",
   "metadata": {},
   "outputs": [
    {
     "name": "stdout",
     "output_type": "stream",
     "text": [
      "-1\n"
     ]
    }
   ],
   "source": [
    "def firstUniqChar(s):\n",
    "    char_counts = {}  # Dictionary to store the count of each character\n",
    "\n",
    "    # Count the occurrences of each character in the string\n",
    "    for char in s:\n",
    "        if char in char_counts:\n",
    "            char_counts[char] += 1\n",
    "        else:\n",
    "            char_counts[char] = 1\n",
    "\n",
    "    # Find the index of the first non-repeating character\n",
    "    for i in range(len(s)):\n",
    "        if char_counts[s[i]] == 1:\n",
    "            return i\n",
    "\n",
    "    return -1  # Return -1 if no non-repeating character is found\n",
    "\n",
    "s = \"aabb\"\n",
    "print(firstUniqChar(s)) "
   ]
  },
  {
   "cell_type": "code",
   "execution_count": null,
   "id": "c77ca6e7-dcbd-45d1-a326-d0a32ca8d620",
   "metadata": {},
   "outputs": [],
   "source": []
  }
 ],
 "metadata": {
  "kernelspec": {
   "display_name": "Python 3 (ipykernel)",
   "language": "python",
   "name": "python3"
  },
  "language_info": {
   "codemirror_mode": {
    "name": "ipython",
    "version": 3
   },
   "file_extension": ".py",
   "mimetype": "text/x-python",
   "name": "python",
   "nbconvert_exporter": "python",
   "pygments_lexer": "ipython3",
   "version": "3.10.8"
  }
 },
 "nbformat": 4,
 "nbformat_minor": 5
}
